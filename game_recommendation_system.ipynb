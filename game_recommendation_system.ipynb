{
 "cells": [
  {
   "cell_type": "markdown",
   "metadata": {
    "id": "1fXvdlU8Z3iE"
   },
   "source": [
    "# Data Preprocessing"
   ]
  },
  {
   "cell_type": "markdown",
   "metadata": {
    "id": "H9m98TytMXls"
   },
   "source": [
    "STEP1 : Importing libraries\n"
   ]
  },
  {
   "cell_type": "code",
   "execution_count": 18,
   "metadata": {
    "id": "Gbep8HITLuIR"
   },
   "outputs": [],
   "source": [
    "import pandas as pd\n",
    "import numpy as np"
   ]
  },
  {
   "cell_type": "markdown",
   "metadata": {
    "id": "Bjf7bUR5MiZi"
   },
   "source": [
    "STEP2 : Read Dataset"
   ]
  },
  {
   "cell_type": "code",
   "execution_count": 19,
   "metadata": {
    "id": "dQeeF8reNVno"
   },
   "outputs": [
    {
     "data": {
      "text/plain": [
       "(2000, 18)"
      ]
     },
     "execution_count": 19,
     "metadata": {},
     "output_type": "execute_result"
    }
   ],
   "source": [
    "steam_data=pd.read_csv('steam2.csv')\n",
    "steam_data.shape \n",
    "#steam_data = steam_data.sample(2000).reset_index(drop=True)\n"
   ]
  },
  {
   "cell_type": "code",
   "execution_count": null,
   "metadata": {
    "id": "6nhd1ZUEJsz9"
   },
   "outputs": [],
   "source": [
    "#from google.colab import drive\n",
    "#drive.mount('/content/drive')"
   ]
  },
  {
   "cell_type": "code",
   "execution_count": null,
   "metadata": {
    "id": "_odHQk4Tb2bm"
   },
   "outputs": [],
   "source": [
    "#from google.colab import drive\n",
    "#drive.mount('/content/drive')"
   ]
  },
  {
   "cell_type": "code",
   "execution_count": null,
   "metadata": {
    "id": "J4614eiiMShW"
   },
   "outputs": [],
   "source": [
    "#head\n",
    "steam_data.head()"
   ]
  },
  {
   "cell_type": "code",
   "execution_count": null,
   "metadata": {
    "id": "3N6kQQRNNYtI"
   },
   "outputs": [],
   "source": [
    "#tail\n",
    "steam_data.tail()"
   ]
  },
  {
   "cell_type": "markdown",
   "metadata": {
    "id": "tjNjTJnJNgKx"
   },
   "source": [
    "STEP3 : sanity check of the data\n"
   ]
  },
  {
   "cell_type": "code",
   "execution_count": 17,
   "metadata": {
    "id": "bGK2aktfNnQ-"
   },
   "outputs": [
    {
     "data": {
      "text/plain": [
       "(2000, 19)"
      ]
     },
     "execution_count": 17,
     "metadata": {},
     "output_type": "execute_result"
    }
   ],
   "source": [
    "#shape\n",
    "steam_data.shape"
   ]
  },
  {
   "cell_type": "code",
   "execution_count": null,
   "metadata": {
    "id": "NKzdZLChNw7T"
   },
   "outputs": [],
   "source": [
    "#info()\n",
    "steam_data.info()"
   ]
  },
  {
   "cell_type": "code",
   "execution_count": null,
   "metadata": {
    "id": "D16kLbVrONPA"
   },
   "outputs": [],
   "source": [
    "#finding missing value\n",
    "steam_data.isnull().sum()"
   ]
  },
  {
   "cell_type": "code",
   "execution_count": null,
   "metadata": {
    "id": "-j1ldk1tOaV7"
   },
   "outputs": [],
   "source": [
    "#finding percentage of the missing value\n",
    "steam_data.isnull().sum()/steam_data.shape[0]*100"
   ]
  },
  {
   "cell_type": "code",
   "execution_count": null,
   "metadata": {
    "id": "S9JmXDjLPUBu"
   },
   "outputs": [],
   "source": [
    "#finding duplicates\n",
    "steam_data.duplicated(subset = [\"appid\"] ).sum()"
   ]
  },
  {
   "cell_type": "code",
   "execution_count": null,
   "metadata": {
    "id": "-wJ4E3LV1DGq"
   },
   "outputs": [],
   "source": [
    "#Summary statistics (mean, median, etc.)\n",
    "print(\"\\nSummary statistics:\")\n",
    "print(steam_data.describe())"
   ]
  },
  {
   "cell_type": "code",
   "execution_count": null,
   "metadata": {
    "id": "5EMKsHCTPhgI"
   },
   "outputs": [],
   "source": [
    "#identifing garbage value\n",
    "for i in steam_data.select_dtypes(include='object').columns:\n",
    "  print(steam_data[i].value_counts())\n",
    "  print(\"***\"*10)\n",
    "  # print(i)\n",
    "  # print(steam_data[i].unique())"
   ]
  },
  {
   "cell_type": "markdown",
   "metadata": {
    "id": "AKlUiqcK2dQ6"
   },
   "source": [
    "STEP4: Exploratory Data Analysis\n",
    "(EDA)"
   ]
  },
  {
   "cell_type": "code",
   "execution_count": null,
   "metadata": {
    "id": "K7LL_XBK2v-S"
   },
   "outputs": [],
   "source": [
    "#descriptive statistics\n",
    "steam_data.describe()"
   ]
  },
  {
   "cell_type": "code",
   "execution_count": null,
   "metadata": {
    "id": "kx61qR8L3RPc"
   },
   "outputs": [],
   "source": [
    "steam_data.describe(include='object').T"
   ]
  },
  {
   "cell_type": "code",
   "execution_count": null,
   "metadata": {
    "id": "7puhxt6I4Gdw"
   },
   "outputs": [],
   "source": [
    "#histogram to understand the distribution\n",
    "# steam_data.hist(figsize=(15,10))\n",
    "# plt.show()\n",
    "for i in steam_data.select_dtypes(include='number').columns:\n",
    "  sns.histplot(steam_data[i])\n",
    "  plt.show()"
   ]
  },
  {
   "cell_type": "code",
   "execution_count": null,
   "metadata": {
    "id": "7sQ0HZ3d5axJ"
   },
   "outputs": [],
   "source": [
    "#Boxplot to identify outliers\n",
    "for i in steam_data.select_dtypes(include='number').columns:\n",
    "  sns.boxplot(data=steam_data,x=i)\n",
    "  plt.show()"
   ]
  },
  {
   "cell_type": "code",
   "execution_count": null,
   "metadata": {
    "id": "7xb5BBdU59zy"
   },
   "outputs": [],
   "source": [
    "#scatter plot to understand the relationship\n",
    "for i in ['appid', 'english', 'required_age', 'achievements',\n",
    "       'negative_ratings', 'average_playtime', 'median_playtime', 'price']:\n",
    "  sns.scatterplot(data=steam_data,x=i,y='positive_ratings')\n",
    "  plt.show()"
   ]
  },
  {
   "cell_type": "code",
   "execution_count": null,
   "metadata": {
    "id": "TdUU4mKPBAbH"
   },
   "outputs": [],
   "source": [
    "steam_data.select_dtypes(include='number').columns"
   ]
  },
  {
   "cell_type": "code",
   "execution_count": null,
   "metadata": {
    "id": "T8vdvrpoBTQh"
   },
   "outputs": [],
   "source": [
    "#corelation with heatmap to interpret the relation and multicolliniarity\n",
    "s=steam_data.select_dtypes(include='number').corr()\n",
    "plt.figure(figsize=(32,18))\n",
    "sns.heatmap(s,annot=True)"
   ]
  },
  {
   "cell_type": "code",
   "execution_count": null,
   "metadata": {
    "id": "lpi7FDN7AQLe"
   },
   "outputs": [],
   "source": [
    "#finding duplicates\n",
    "steam_data.duplicated().sum()"
   ]
  },
  {
   "cell_type": "markdown",
   "metadata": {
    "id": "zvOru2vfaHtS"
   },
   "source": [
    "# Model Building\n"
   ]
  },
  {
   "cell_type": "markdown",
   "metadata": {
    "id": "twgiCeqpaovW"
   },
   "source": [
    "\n",
    "### Content-Based Filtering Implementation\n"
   ]
  },
  {
   "cell_type": "markdown",
   "metadata": {
    "id": "nKd-HLuaa6_0"
   },
   "source": [
    "Vectorizing genres, tags, developer"
   ]
  },
  {
   "cell_type": "code",
   "execution_count": 20,
   "metadata": {
    "id": "ev9dgQihDsKI"
   },
   "outputs": [
    {
     "name": "stdout",
     "output_type": "stream",
     "text": [
      "genres           0\n",
      "developer        0\n",
      "steamspy_tags    0\n",
      "categories       0\n",
      "publisher        0\n",
      "dtype: int64\n"
     ]
    }
   ],
   "source": [
    "#Check for NaN Values\n",
    "print(steam_data[['genres', 'developer', 'steamspy_tags', 'categories','publisher']].isnull().sum())"
   ]
  },
  {
   "cell_type": "code",
   "execution_count": 4,
   "metadata": {
    "id": "9NOcB4axD0Co"
   },
   "outputs": [],
   "source": [
    "#Fill NaN Values with an empty string\n",
    "steam_data['developer'] = steam_data['developer'].fillna('')\n",
    "steam_data['publisher'] = steam_data['publisher'].fillna('')"
   ]
  },
  {
   "cell_type": "code",
   "execution_count": 21,
   "metadata": {
    "id": "5autLnHdbNto"
   },
   "outputs": [
    {
     "name": "stdout",
     "output_type": "stream",
     "text": [
      "(2000, 3354)\n"
     ]
    }
   ],
   "source": [
    "from sklearn.feature_extraction.text import TfidfVectorizer\n",
    "\n",
    "# Combine relevant columns into a single column for vectorization\n",
    "steam_data['combined_features'] = steam_data['genres'] + ' ' + steam_data['developer'] + ' ' + steam_data['steamspy_tags'] + ' ' + steam_data['categories'] + steam_data['publisher']\n",
    "\n",
    "# Use TF-IDF Vectorizer to transform the combined features\n",
    "tfidf = TfidfVectorizer(stop_words='english')\n",
    "tfidf_matrix = tfidf.fit_transform(steam_data['combined_features'])\n",
    "\n",
    "# Check the shape of the tfidf_matrix\n",
    "print(tfidf_matrix.shape)\n"
   ]
  },
  {
   "cell_type": "markdown",
   "metadata": {
    "id": "l34qNaKTEkS7"
   },
   "source": [
    "Calculate cosine Similarity Between Games\n"
   ]
  },
  {
   "cell_type": "code",
   "execution_count": 22,
   "metadata": {
    "id": "uOQVYmMyEoiV"
   },
   "outputs": [
    {
     "name": "stdout",
     "output_type": "stream",
     "text": [
      "(2000, 2000)\n"
     ]
    }
   ],
   "source": [
    "from sklearn.metrics.pairwise import cosine_similarity\n",
    "\n",
    "# Compute cosine similarity between all games\n",
    "cosine_sim = cosine_similarity(tfidf_matrix, tfidf_matrix)\n",
    "\n",
    "# Display the cosine similarity matrix shape\n",
    "print(cosine_sim.shape)"
   ]
  },
  {
   "cell_type": "markdown",
   "metadata": {
    "id": "hZMorrYKHPOi"
   },
   "source": [
    "Game Recommendation Function"
   ]
  },
  {
   "cell_type": "code",
   "execution_count": 23,
   "metadata": {
    "id": "8yOry-O_IeHn"
   },
   "outputs": [],
   "source": [
    "# Recommendation Function\n",
    "def get_recommendations(game_title, cosine_sim=cosine_sim):\n",
    "    # Check if the game title exists in the DataFrame\n",
    "    if game_title not in steam_data['name'].values:\n",
    "        print(f\"Game title '{game_title}' not found in the dataset.\")\n",
    "        return None  # Return None or an empty list\n",
    "\n",
    "    # Get the index of the game that matches the title\n",
    "    idx = steam_data[steam_data['name'] == game_title].index[0]\n",
    "\n",
    "    # Get the pairwise similarity scores of all games with that game\n",
    "    sim_scores = list(enumerate(cosine_sim[idx]))\n",
    "\n",
    "    # Sort the games based on the similarity scores\n",
    "    sim_scores = sorted(sim_scores, key=lambda x: x[1], reverse=True)\n",
    "\n",
    "    # Get the scores of the top N most similar games\n",
    "    sim_scores = sim_scores[1:11]  # Exclude the first game (itself)\n",
    "\n",
    "    # Get the game indices\n",
    "    game_indices = [i[0] for i in sim_scores]\n",
    "\n",
    "    # Return the top N most similar games\n",
    "    return steam_data['name'].iloc[game_indices]"
   ]
  },
  {
   "cell_type": "code",
   "execution_count": 24,
   "metadata": {
    "id": "pSOiuc07HQ4t"
   },
   "outputs": [
    {
     "name": "stdout",
     "output_type": "stream",
     "text": [
      "1118                            Rise to Ruins\n",
      "1097                            NEO Scavenger\n",
      "1103           Friday the 13th: Killer Puzzle\n",
      "954          Crash Bandicoot™ N. Sane Trilogy\n",
      "635                                    UnEpic\n",
      "1116                       Narcissu 1st & 2nd\n",
      "1538                             Renegade Ops\n",
      "1408    ATOM RPG: Post-apocalyptic indie game\n",
      "750                                 Her Story\n",
      "109                                FOR HONOR™\n",
      "Name: name, dtype: object\n"
     ]
    }
   ],
   "source": [
    "# Print out a sample of game titles to verify\n",
    "print(steam_data['name'].sample(10))  # Prints 10 random game titles"
   ]
  },
  {
   "cell_type": "code",
   "execution_count": 25,
   "metadata": {
    "id": "ThAEEuqDIlY0"
   },
   "outputs": [
    {
     "name": "stdout",
     "output_type": "stream",
     "text": [
      "1353        Unreal Tournament: Game of the Year Edition\n",
      "1949                                        Unreal Gold\n",
      "1315    Unreal Tournament 2004: Editor's Choice Edition\n",
      "832                                       Murder Miners\n",
      "1614                             Alien Rage - Unlimited\n",
      "1198                                               20XX\n",
      "702                                 RUNNING WITH RIFLES\n",
      "940        Boring Man - Online Tactical Stickman Combat\n",
      "1313                                        Enemy Front\n",
      "657                                          Battleborn\n",
      "Name: name, dtype: object\n"
     ]
    }
   ],
   "source": [
    "# Example: Get top 10 recommendations for a specific game\n",
    "game_title = 'Unreal Tournament 3 Black'  # Replace with an actual game name\n",
    "recommendations = get_recommendations(game_title)\n",
    "if recommendations is not None:\n",
    "    print(recommendations)\n"
   ]
  },
  {
   "cell_type": "code",
   "execution_count": 26,
   "metadata": {
    "id": "0lGhYmoMJ-mn"
   },
   "outputs": [],
   "source": [
    "import pickle"
   ]
  },
  {
   "cell_type": "code",
   "execution_count": 27,
   "metadata": {
    "id": "HCLknCpqZ_Oa"
   },
   "outputs": [],
   "source": [
    "pickle.dump(steam_data.to_dict(),open('game_dict.pkl','wb'))\n",
    "pickle.dump(cosine_sim,open('similarity.pkl','wb'))\n",
    "#"
   ]
  }
 ],
 "metadata": {
  "accelerator": "GPU",
  "colab": {
   "cell_execution_strategy": "setup",
   "gpuType": "T4",
   "private_outputs": true,
   "provenance": []
  },
  "kernelspec": {
   "display_name": "Python 3",
   "name": "python3"
  },
  "language_info": {
   "codemirror_mode": {
    "name": "ipython",
    "version": 3
   },
   "file_extension": ".py",
   "mimetype": "text/x-python",
   "name": "python",
   "nbconvert_exporter": "python",
   "pygments_lexer": "ipython3",
   "version": "3.11.9"
  }
 },
 "nbformat": 4,
 "nbformat_minor": 0
}
